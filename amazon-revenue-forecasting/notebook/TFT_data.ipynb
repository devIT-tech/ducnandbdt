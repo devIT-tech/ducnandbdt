{
 "cells": [
  {
   "cell_type": "code",
   "execution_count": 1,
   "id": "1d2370f3",
   "metadata": {},
   "outputs": [],
   "source": [
    "import os\n",
    "# Tránh lỗi python3 trên Windows\n",
    "os.environ[\"PYSPARK_PYTHON\"] = \"python\"\n",
    "os.environ[\"PYSPARK_DRIVER_PYTHON\"] = \"python\"\n",
    "\n",
    "from pyspark.sql import SparkSession\n",
    "\n",
    "spark = SparkSession.builder \\\n",
    "    .appName(\"AmazonReviewPreprocess\") \\\n",
    "    .master(\"local[*]\") \\\n",
    "    .config(\"spark.driver.memory\", \"8g\") \\\n",
    "    .getOrCreate()\n",
    "    \n",
    "meta_path = r\"file:///C:/Users/PC/OneDrive/Dokumen/Amazon_sales_forecasting/data/metadata/meta_Clothing_Shoes_and_Jewelry_*.parquet\"\n",
    "review_path = r\"D:/Clothing_Shoes_and_Jewelry/Clothing_Shoes_and_Jewelry.jsonl\"\n",
    "\n",
    "df_meta = spark.read.parquet(meta_path)\n",
    "df_review = spark.read.json(review_path)"
   ]
  },
  {
   "cell_type": "code",
   "execution_count": 2,
   "id": "8e5ff3a3",
   "metadata": {},
   "outputs": [],
   "source": [
    "from pyspark.sql.functions import to_date, from_unixtime, col\n",
    "\n",
    "# Chuyển timestamp sang định dạng ngày\n",
    "df_review = df_review.withColumn(\"date\", to_date(from_unixtime(col(\"timestamp\") / 1000)))\n",
    "\n",
    "# Chọn các cột quan trọng\n",
    "df_review = df_review.select(\"parent_asin\", \"rating\", \"text\", \"user_id\", \"date\")\n",
    "\n",
    "\n",
    "cols_needed = [\n",
    "        \"parent_asin\", \"title\", \"price\", \"average_rating\", \"rating_number\",\n",
    "        \"categories\", \"features\", \"description\", \"main_category\", \"store\"\n",
    "    ]\n",
    "df_meta = df_meta.select([c for c in cols_needed if c in df_meta.columns])"
   ]
  },
  {
   "cell_type": "code",
   "execution_count": 3,
   "id": "32f0cf1b",
   "metadata": {},
   "outputs": [
    {
     "name": "stderr",
     "output_type": "stream",
     "text": [
      "c:\\Users\\PC\\anaconda3\\envs\\DL_env\\lib\\site-packages\\tqdm\\auto.py:21: TqdmWarning: IProgress not found. Please update jupyter and ipywidgets. See https://ipywidgets.readthedocs.io/en/stable/user_install.html\n",
      "  from .autonotebook import tqdm as notebook_tqdm\n",
      "Device set to use cuda:0\n"
     ]
    },
    {
     "name": "stdout",
     "output_type": "stream",
     "text": [
      "root\n",
      " |-- parent_asin: string (nullable = true)\n",
      " |-- rating: double (nullable = true)\n",
      " |-- text: string (nullable = true)\n",
      " |-- user_id: string (nullable = true)\n",
      " |-- date: date (nullable = true)\n",
      " |-- title: string (nullable = true)\n",
      " |-- price: double (nullable = true)\n",
      " |-- average_rating: double (nullable = true)\n",
      " |-- rating_number: long (nullable = true)\n",
      " |-- categories: array (nullable = true)\n",
      " |    |-- element: string (containsNull = true)\n",
      " |-- features: array (nullable = true)\n",
      " |    |-- element: string (containsNull = true)\n",
      " |-- description: array (nullable = true)\n",
      " |    |-- element: string (containsNull = true)\n",
      " |-- main_category: string (nullable = true)\n",
      " |-- store: string (nullable = true)\n",
      " |-- sentiment_score: integer (nullable = true)\n",
      "\n",
      "+-----------+------+--------------------+--------------------+----------+--------------------+-----+--------------+-------------+--------------------+--------------------+--------------------+--------------+------------+---------------+\n",
      "|parent_asin|rating|                text|             user_id|      date|               title|price|average_rating|rating_number|          categories|            features|         description| main_category|       store|sentiment_score|\n",
      "+-----------+------+--------------------+--------------------+----------+--------------------+-----+--------------+-------------+--------------------+--------------------+--------------------+--------------+------------+---------------+\n",
      "| B005LVLX7C|   5.0|I bought them for...|AGCA46DZ7VS7ZIA6Q...|2016-10-06|Converse Chuck Ta...|85.46|           4.2|           54|[Clothing, Shoes ...|[Converse The Chu...|[Converse The Chu...|AMAZON FASHION|    Converse|              1|\n",
      "| B008XDC1NU|   4.0|This watch is eve...|AEFYKNQK3FLZCSUTL...|2017-06-09|Casio Women's BG1...| NULL|           4.6|         1288|[Clothing, Shoes ...|[Made in the USA ...|[Casio BG-169G-4B...|AMAZON FASHION|       Casio|              1|\n",
      "| B00PLDTVY2|   3.0|I wasn't expectin...|AFNKQV3POVPIBLT54...|2015-03-20|MUXXN Women Black...| NULL|           3.1|           23|[Clothing, Shoes ...|[95% Polyester, 5...|                  []|AMAZON FASHION|       MUXXN|             -1|\n",
      "| B07BRR59DY|   5.0|Comfy, not super ...|AFGH5WRUIQ3JRSK4E...|2021-04-26|Pro Mountain No S...|11.79|           4.7|        10552|[Clothing, Shoes ...|[73% Combed Cotto...|                  []|AMAZON FASHION|Pro Mountain|              1|\n",
      "| B07BRR59DY|   4.0|Comfortable fit a...|AHV56ANV6NWWJRCWQ...|2019-12-07|Pro Mountain No S...|11.79|           4.7|        10552|[Clothing, Shoes ...|[73% Combed Cotto...|                  []|AMAZON FASHION|Pro Mountain|              1|\n",
      "+-----------+------+--------------------+--------------------+----------+--------------------+-----+--------------+-------------+--------------------+--------------------+--------------------+--------------+------------+---------------+\n",
      "only showing top 5 rows\n",
      "\n"
     ]
    }
   ],
   "source": [
    "from pyspark.sql.functions import col, pandas_udf, when\n",
    "import pandas as pd\n",
    "from transformers import pipeline\n",
    "\n",
    "# # Kết hợp dữ liệu review và metadata\n",
    "df = df_review.join(df_meta, on=\"parent_asin\", how=\"left\")\n",
    "\n",
    "# Tải mô hình phân tích cảm xúc từ HuggingFace\n",
    "sentiment_pipeline = pipeline(\"sentiment-analysis\", model=\"distilbert-base-uncased-finetuned-sst-2-english\")\n",
    "\n",
    "# Định nghĩa hàm phân tích cảm xúc\n",
    "@pandas_udf(\"int\")\n",
    "def compute_sentiment(text_series: pd.Series) -> pd.Series:\n",
    "    results = sentiment_pipeline(text_series.tolist(), truncation=True)\n",
    "    return pd.Series([1 if r['label'] == 'POSITIVE' else -1 for r in results])\n",
    "\n",
    "# Áp dụng hàm phân tích cảm xúc\n",
    "df = df.withColumn(\"sentiment_score\", compute_sentiment(df[\"text\"]))\n",
    "\n",
    "# Chuyển cột verified_purchase từ chuỗi sang boolean\n",
    "\n",
    "df.printSchema()\n",
    "\n",
    "# Lọc những dòng có verified_purchase=True và text không null\n",
    "df = df.filter((col(\"text\").isNotNull()))\n",
    "\n",
    "df.show(5)\n",
    "\n",
    "# Save to csv file\n",
    "pandas_df = df.limit(10000).toPandas()\n",
    "\n",
    "pandas_df.to_csv(\"tft_10000.csv\")"
   ]
  },
  {
   "cell_type": "markdown",
   "id": "a7f06b51",
   "metadata": {},
   "source": [
    "# Xây dựng và huấn luyện mô hình Temporal Fusion Transformer (TFT)"
   ]
  },
  {
   "cell_type": "code",
   "execution_count": null,
   "id": "3a656c94",
   "metadata": {},
   "outputs": [],
   "source": []
  },
  {
   "cell_type": "code",
   "execution_count": null,
   "id": "0d5429f1",
   "metadata": {},
   "outputs": [],
   "source": []
  }
 ],
 "metadata": {
  "kernelspec": {
   "display_name": "DL_env",
   "language": "python",
   "name": "python3"
  },
  "language_info": {
   "codemirror_mode": {
    "name": "ipython",
    "version": 3
   },
   "file_extension": ".py",
   "mimetype": "text/x-python",
   "name": "python",
   "nbconvert_exporter": "python",
   "pygments_lexer": "ipython3",
   "version": "3.10.16"
  }
 },
 "nbformat": 4,
 "nbformat_minor": 5
}
